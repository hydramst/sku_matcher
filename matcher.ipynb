{
 "cells": [
  {
   "attachments": {},
   "cell_type": "markdown",
   "metadata": {},
   "source": [
    "# Построение модели машинного обучения для поиска товара по текстовому описанию"
   ]
  },
  {
   "attachments": {},
   "cell_type": "markdown",
   "metadata": {},
   "source": [
    "# Разработка сервиса поиска кода товара по текстовому описанию"
   ]
  },
  {
   "attachments": {},
   "cell_type": "markdown",
   "metadata": {},
   "source": [
    "# Создание модели машинного обучения для сопоставления кодов с текстовым описанием товара"
   ]
  },
  {
   "cell_type": "code",
   "execution_count": 26,
   "metadata": {},
   "outputs": [
    {
     "name": "stderr",
     "output_type": "stream",
     "text": [
      "[nltk_data] Downloading package stopwords to\n",
      "[nltk_data]     C:\\Users\\223hy\\AppData\\Roaming\\nltk_data...\n",
      "[nltk_data]   Package stopwords is already up-to-date!\n",
      "[nltk_data] Downloading package wordnet to\n",
      "[nltk_data]     C:\\Users\\223hy\\AppData\\Roaming\\nltk_data...\n",
      "[nltk_data]   Package wordnet is already up-to-date!\n"
     ]
    }
   ],
   "source": [
    "import pandas as pd\n",
    "import re\n",
    "from nltk.corpus import stopwords\n",
    "nltk.download('stopwords')\n",
    "nltk.download('wordnet')\n",
    "from nltk.tokenize import RegexpTokenizer\n",
    "from nltk.stem import WordNetLemmatizer\n",
    "import pymorphy3\n",
    "import langid"
   ]
  },
  {
   "attachments": {},
   "cell_type": "markdown",
   "metadata": {},
   "source": [
    "## Импорт данных"
   ]
  },
  {
   "cell_type": "code",
   "execution_count": 27,
   "metadata": {},
   "outputs": [],
   "source": [
    "df = pd.read_excel('C:\\\\Users\\\\223hy\\\\OneDrive\\\\Рабочий стол\\\\matcher\\\\sku_matcher\\\\mdr.xlsx')"
   ]
  },
  {
   "cell_type": "code",
   "execution_count": 28,
   "metadata": {},
   "outputs": [],
   "source": [
    "df['ITEM'] = df['ITEM'].astype(str)\n",
    "df['DESC'] = df['DESC'].astype(str)\n",
    "df = df.dropna()"
   ]
  },
  {
   "cell_type": "code",
   "execution_count": 29,
   "metadata": {},
   "outputs": [
    {
     "data": {
      "text/html": [
       "<div>\n",
       "<style scoped>\n",
       "    .dataframe tbody tr th:only-of-type {\n",
       "        vertical-align: middle;\n",
       "    }\n",
       "\n",
       "    .dataframe tbody tr th {\n",
       "        vertical-align: top;\n",
       "    }\n",
       "\n",
       "    .dataframe thead th {\n",
       "        text-align: right;\n",
       "    }\n",
       "</style>\n",
       "<table border=\"1\" class=\"dataframe\">\n",
       "  <thead>\n",
       "    <tr style=\"text-align: right;\">\n",
       "      <th></th>\n",
       "      <th>ITEM</th>\n",
       "      <th>DESC</th>\n",
       "    </tr>\n",
       "  </thead>\n",
       "  <tbody>\n",
       "    <tr>\n",
       "      <th>0</th>\n",
       "      <td>MDREX15LPLI.AE</td>\n",
       "      <td>Наушники SONY MDR-EX15LP/LI, синие</td>\n",
       "    </tr>\n",
       "    <tr>\n",
       "      <th>1</th>\n",
       "      <td>MDREX15LPPI.AE</td>\n",
       "      <td>Наушники SONY MDR-EX15LP/P, розовые</td>\n",
       "    </tr>\n",
       "    <tr>\n",
       "      <th>2</th>\n",
       "      <td>MDREX250APR.E</td>\n",
       "      <td>Наушники SONY MDR-EX250AP красные</td>\n",
       "    </tr>\n",
       "    <tr>\n",
       "      <th>3</th>\n",
       "      <td>MDRXB550APB.E</td>\n",
       "      <td>Наушники SONY MDR-XB550AP черный</td>\n",
       "    </tr>\n",
       "    <tr>\n",
       "      <th>4</th>\n",
       "      <td>MDRZX310L.AE</td>\n",
       "      <td>Наушники SONY MDR-ZX310/L синие</td>\n",
       "    </tr>\n",
       "    <tr>\n",
       "      <th>...</th>\n",
       "      <td>...</td>\n",
       "      <td>...</td>\n",
       "    </tr>\n",
       "    <tr>\n",
       "      <th>57119</th>\n",
       "      <td>MDRZX610APW.CE7</td>\n",
       "      <td>MDR-ZX610AP/W</td>\n",
       "    </tr>\n",
       "    <tr>\n",
       "      <th>57120</th>\n",
       "      <td>MDRZX660APB.E</td>\n",
       "      <td>MDR-ZX660AP/B</td>\n",
       "    </tr>\n",
       "    <tr>\n",
       "      <th>57121</th>\n",
       "      <td>MDRZX660APD.E</td>\n",
       "      <td>MDR-ZX660AP/D</td>\n",
       "    </tr>\n",
       "    <tr>\n",
       "      <th>57122</th>\n",
       "      <td>MDRZX660APL.E</td>\n",
       "      <td>MDR-ZX660AP/L</td>\n",
       "    </tr>\n",
       "    <tr>\n",
       "      <th>57123</th>\n",
       "      <td>MDRZX770BNB.E</td>\n",
       "      <td>MDR-ZX770BN/B</td>\n",
       "    </tr>\n",
       "  </tbody>\n",
       "</table>\n",
       "<p>57124 rows × 2 columns</p>\n",
       "</div>"
      ],
      "text/plain": [
       "                  ITEM                                 DESC\n",
       "0       MDREX15LPLI.AE   Наушники SONY MDR-EX15LP/LI, синие\n",
       "1       MDREX15LPPI.AE  Наушники SONY MDR-EX15LP/P, розовые\n",
       "2        MDREX250APR.E    Наушники SONY MDR-EX250AP красные\n",
       "3        MDRXB550APB.E     Наушники SONY MDR-XB550AP черный\n",
       "4         MDRZX310L.AE      Наушники SONY MDR-ZX310/L синие\n",
       "...                ...                                  ...\n",
       "57119  MDRZX610APW.CE7                        MDR-ZX610AP/W\n",
       "57120    MDRZX660APB.E                        MDR-ZX660AP/B\n",
       "57121    MDRZX660APD.E                        MDR-ZX660AP/D\n",
       "57122    MDRZX660APL.E                        MDR-ZX660AP/L\n",
       "57123    MDRZX770BNB.E                        MDR-ZX770BN/B\n",
       "\n",
       "[57124 rows x 2 columns]"
      ]
     },
     "execution_count": 29,
     "metadata": {},
     "output_type": "execute_result"
    }
   ],
   "source": [
    "df"
   ]
  },
  {
   "attachments": {},
   "cell_type": "markdown",
   "metadata": {},
   "source": [
    "## Подготовка текста"
   ]
  },
  {
   "cell_type": "code",
   "execution_count": 30,
   "metadata": {},
   "outputs": [],
   "source": [
    "# Drop rows with 'no' value in ITEM column (not relevant)\n",
    "df = df[df['ITEM'] != 'no']\n",
    "\n",
    "# Remove all text after last dot in ITEM column (region)\n",
    "df['ITEM'] = df['ITEM'].apply(lambda x: x.rsplit('.', 1)[0] if '.' in x else x)\n",
    "\n",
    "# Drop duplicates\n",
    "df = df.drop_duplicates()   \n",
    "\n",
    "# Reset the index\n",
    "df = df.reset_index(drop=True)"
   ]
  },
  {
   "cell_type": "code",
   "execution_count": 31,
   "metadata": {},
   "outputs": [
    {
     "data": {
      "text/html": [
       "<div>\n",
       "<style scoped>\n",
       "    .dataframe tbody tr th:only-of-type {\n",
       "        vertical-align: middle;\n",
       "    }\n",
       "\n",
       "    .dataframe tbody tr th {\n",
       "        vertical-align: top;\n",
       "    }\n",
       "\n",
       "    .dataframe thead th {\n",
       "        text-align: right;\n",
       "    }\n",
       "</style>\n",
       "<table border=\"1\" class=\"dataframe\">\n",
       "  <thead>\n",
       "    <tr style=\"text-align: right;\">\n",
       "      <th></th>\n",
       "      <th>ITEM</th>\n",
       "      <th>DESC</th>\n",
       "    </tr>\n",
       "  </thead>\n",
       "  <tbody>\n",
       "    <tr>\n",
       "      <th>0</th>\n",
       "      <td>MDREX15LPLI</td>\n",
       "      <td>Наушники SONY MDR-EX15LP/LI, синие</td>\n",
       "    </tr>\n",
       "    <tr>\n",
       "      <th>1</th>\n",
       "      <td>MDREX15LPPI</td>\n",
       "      <td>Наушники SONY MDR-EX15LP/P, розовые</td>\n",
       "    </tr>\n",
       "    <tr>\n",
       "      <th>2</th>\n",
       "      <td>MDREX250APR</td>\n",
       "      <td>Наушники SONY MDR-EX250AP красные</td>\n",
       "    </tr>\n",
       "    <tr>\n",
       "      <th>3</th>\n",
       "      <td>MDRXB550APB</td>\n",
       "      <td>Наушники SONY MDR-XB550AP черный</td>\n",
       "    </tr>\n",
       "    <tr>\n",
       "      <th>4</th>\n",
       "      <td>MDRZX310L</td>\n",
       "      <td>Наушники SONY MDR-ZX310/L синие</td>\n",
       "    </tr>\n",
       "    <tr>\n",
       "      <th>...</th>\n",
       "      <td>...</td>\n",
       "      <td>...</td>\n",
       "    </tr>\n",
       "    <tr>\n",
       "      <th>24512</th>\n",
       "      <td>MDRZX310APL</td>\n",
       "      <td>MDRZX310APL.CE7_RU</td>\n",
       "    </tr>\n",
       "    <tr>\n",
       "      <th>24513</th>\n",
       "      <td>MDREX450APH</td>\n",
       "      <td>MDR-EX450AP/B</td>\n",
       "    </tr>\n",
       "    <tr>\n",
       "      <th>24514</th>\n",
       "      <td>MDREX450APH</td>\n",
       "      <td>MDR-EX450AP/L</td>\n",
       "    </tr>\n",
       "    <tr>\n",
       "      <th>24515</th>\n",
       "      <td>MDREX650APT</td>\n",
       "      <td>MDR-EX650AP/T</td>\n",
       "    </tr>\n",
       "    <tr>\n",
       "      <th>24516</th>\n",
       "      <td>MDRZX330BT</td>\n",
       "      <td>MDR-ZX330BT/E</td>\n",
       "    </tr>\n",
       "  </tbody>\n",
       "</table>\n",
       "<p>24517 rows × 2 columns</p>\n",
       "</div>"
      ],
      "text/plain": [
       "              ITEM                                 DESC\n",
       "0      MDREX15LPLI   Наушники SONY MDR-EX15LP/LI, синие\n",
       "1      MDREX15LPPI  Наушники SONY MDR-EX15LP/P, розовые\n",
       "2      MDREX250APR    Наушники SONY MDR-EX250AP красные\n",
       "3      MDRXB550APB     Наушники SONY MDR-XB550AP черный\n",
       "4        MDRZX310L      Наушники SONY MDR-ZX310/L синие\n",
       "...            ...                                  ...\n",
       "24512  MDRZX310APL                   MDRZX310APL.CE7_RU\n",
       "24513  MDREX450APH                        MDR-EX450AP/B\n",
       "24514  MDREX450APH                        MDR-EX450AP/L\n",
       "24515  MDREX650APT                        MDR-EX650AP/T\n",
       "24516   MDRZX330BT                        MDR-ZX330BT/E\n",
       "\n",
       "[24517 rows x 2 columns]"
      ]
     },
     "execution_count": 31,
     "metadata": {},
     "output_type": "execute_result"
    }
   ],
   "source": [
    "df"
   ]
  },
  {
   "cell_type": "code",
   "execution_count": 32,
   "metadata": {},
   "outputs": [],
   "source": [
    "\n",
    "def clean_text(text):\n",
    "    # удаление лишних символов и приведение к нижнему регистру\n",
    "    text = re.sub(r'[^\\w\\s]', '', text)\n",
    "    text = text.lower()\n",
    "    \n",
    "    # токенизация\n",
    "    tokenizer = RegexpTokenizer(r'\\w+')\n",
    "    tokens = tokenizer.tokenize(text)\n",
    "    \n",
    "    # удаление стоп-слов\n",
    "    stop_words = set(stopwords.words('english') + stopwords.words('russian'))\n",
    "    tokens = [token for token in tokens if not token in stop_words]\n",
    "    \n",
    "    # объединение токенов в строку\n",
    "    text = ' '.join(tokens)\n",
    "    return text\n",
    "\n",
    "\n",
    "# применение функции очистки текста к колонке 'DESC'\n",
    "df['DESC'] = df['DESC'].apply(clean_text)"
   ]
  },
  {
   "cell_type": "code",
   "execution_count": 33,
   "metadata": {},
   "outputs": [
    {
     "data": {
      "text/html": [
       "<div>\n",
       "<style scoped>\n",
       "    .dataframe tbody tr th:only-of-type {\n",
       "        vertical-align: middle;\n",
       "    }\n",
       "\n",
       "    .dataframe tbody tr th {\n",
       "        vertical-align: top;\n",
       "    }\n",
       "\n",
       "    .dataframe thead th {\n",
       "        text-align: right;\n",
       "    }\n",
       "</style>\n",
       "<table border=\"1\" class=\"dataframe\">\n",
       "  <thead>\n",
       "    <tr style=\"text-align: right;\">\n",
       "      <th></th>\n",
       "      <th>ITEM</th>\n",
       "      <th>DESC</th>\n",
       "    </tr>\n",
       "  </thead>\n",
       "  <tbody>\n",
       "    <tr>\n",
       "      <th>0</th>\n",
       "      <td>MDREX15LPLI</td>\n",
       "      <td>наушники sony mdrex15lpli синие</td>\n",
       "    </tr>\n",
       "    <tr>\n",
       "      <th>1</th>\n",
       "      <td>MDREX15LPPI</td>\n",
       "      <td>наушники sony mdrex15lpp розовые</td>\n",
       "    </tr>\n",
       "    <tr>\n",
       "      <th>2</th>\n",
       "      <td>MDREX250APR</td>\n",
       "      <td>наушники sony mdrex250ap красные</td>\n",
       "    </tr>\n",
       "    <tr>\n",
       "      <th>3</th>\n",
       "      <td>MDRXB550APB</td>\n",
       "      <td>наушники sony mdrxb550ap черный</td>\n",
       "    </tr>\n",
       "    <tr>\n",
       "      <th>4</th>\n",
       "      <td>MDRZX310L</td>\n",
       "      <td>наушники sony mdrzx310l синие</td>\n",
       "    </tr>\n",
       "    <tr>\n",
       "      <th>...</th>\n",
       "      <td>...</td>\n",
       "      <td>...</td>\n",
       "    </tr>\n",
       "    <tr>\n",
       "      <th>24512</th>\n",
       "      <td>MDRZX310APL</td>\n",
       "      <td>mdrzx310aplce7_ru</td>\n",
       "    </tr>\n",
       "    <tr>\n",
       "      <th>24513</th>\n",
       "      <td>MDREX450APH</td>\n",
       "      <td>mdrex450apb</td>\n",
       "    </tr>\n",
       "    <tr>\n",
       "      <th>24514</th>\n",
       "      <td>MDREX450APH</td>\n",
       "      <td>mdrex450apl</td>\n",
       "    </tr>\n",
       "    <tr>\n",
       "      <th>24515</th>\n",
       "      <td>MDREX650APT</td>\n",
       "      <td>mdrex650apt</td>\n",
       "    </tr>\n",
       "    <tr>\n",
       "      <th>24516</th>\n",
       "      <td>MDRZX330BT</td>\n",
       "      <td>mdrzx330bte</td>\n",
       "    </tr>\n",
       "  </tbody>\n",
       "</table>\n",
       "<p>24517 rows × 2 columns</p>\n",
       "</div>"
      ],
      "text/plain": [
       "              ITEM                              DESC\n",
       "0      MDREX15LPLI   наушники sony mdrex15lpli синие\n",
       "1      MDREX15LPPI  наушники sony mdrex15lpp розовые\n",
       "2      MDREX250APR  наушники sony mdrex250ap красные\n",
       "3      MDRXB550APB   наушники sony mdrxb550ap черный\n",
       "4        MDRZX310L     наушники sony mdrzx310l синие\n",
       "...            ...                               ...\n",
       "24512  MDRZX310APL                 mdrzx310aplce7_ru\n",
       "24513  MDREX450APH                       mdrex450apb\n",
       "24514  MDREX450APH                       mdrex450apl\n",
       "24515  MDREX650APT                       mdrex650apt\n",
       "24516   MDRZX330BT                       mdrzx330bte\n",
       "\n",
       "[24517 rows x 2 columns]"
      ]
     },
     "execution_count": 33,
     "metadata": {},
     "output_type": "execute_result"
    }
   ],
   "source": [
    "df"
   ]
  },
  {
   "attachments": {},
   "cell_type": "markdown",
   "metadata": {},
   "source": [
    "## Лемматизация"
   ]
  },
  {
   "cell_type": "code",
   "execution_count": 34,
   "metadata": {},
   "outputs": [],
   "source": [
    "def lemmatize(text):\n",
    "    lemmatizer_en = WordNetLemmatizer()  # Создание объекта WordNetLemmatizer для английской лемматизации\n",
    "    lemmatizer_ru = pymorphy3.MorphAnalyzer()  # Создание объекта MorphAnalyzer для русской лемматизации\n",
    "    \n",
    "    # Токенизация текста\n",
    "    tokens = nltk.word_tokenize(text)\n",
    "    \n",
    "    # Лемматизация каждого слова в зависимости от языка\n",
    "    lemmas = []\n",
    "    for token in tokens:\n",
    "        if langid.classify(token)[0] == 'en':\n",
    "            lemma = lemmatizer_en.lemmatize(token)\n",
    "        else:\n",
    "            lemma = lemmatizer_ru.parse(token)[0].normal_form\n",
    "        lemmas.append(lemma)\n",
    "    \n",
    "    # Объединение слов в предложение\n",
    "    lemmatized_text = ' '.join(lemmas)\n",
    "    \n",
    "    return lemmatized_text\n"
   ]
  },
  {
   "cell_type": "code",
   "execution_count": 35,
   "metadata": {},
   "outputs": [],
   "source": [
    "df['DESC'] = df['DESC'].apply(lemmatize)"
   ]
  },
  {
   "cell_type": "code",
   "execution_count": 36,
   "metadata": {},
   "outputs": [
    {
     "data": {
      "text/html": [
       "<div>\n",
       "<style scoped>\n",
       "    .dataframe tbody tr th:only-of-type {\n",
       "        vertical-align: middle;\n",
       "    }\n",
       "\n",
       "    .dataframe tbody tr th {\n",
       "        vertical-align: top;\n",
       "    }\n",
       "\n",
       "    .dataframe thead th {\n",
       "        text-align: right;\n",
       "    }\n",
       "</style>\n",
       "<table border=\"1\" class=\"dataframe\">\n",
       "  <thead>\n",
       "    <tr style=\"text-align: right;\">\n",
       "      <th></th>\n",
       "      <th>ITEM</th>\n",
       "      <th>DESC</th>\n",
       "    </tr>\n",
       "  </thead>\n",
       "  <tbody>\n",
       "    <tr>\n",
       "      <th>0</th>\n",
       "      <td>MDREX15LPLI</td>\n",
       "      <td>наушник sony mdrex15lpli синий</td>\n",
       "    </tr>\n",
       "    <tr>\n",
       "      <th>1</th>\n",
       "      <td>MDREX15LPPI</td>\n",
       "      <td>наушник sony mdrex15lpp розовый</td>\n",
       "    </tr>\n",
       "    <tr>\n",
       "      <th>2</th>\n",
       "      <td>MDREX250APR</td>\n",
       "      <td>наушник sony mdrex250ap красный</td>\n",
       "    </tr>\n",
       "    <tr>\n",
       "      <th>3</th>\n",
       "      <td>MDRXB550APB</td>\n",
       "      <td>наушник sony mdrxb550ap чёрный</td>\n",
       "    </tr>\n",
       "    <tr>\n",
       "      <th>4</th>\n",
       "      <td>MDRZX310L</td>\n",
       "      <td>наушник sony mdrzx310l синий</td>\n",
       "    </tr>\n",
       "    <tr>\n",
       "      <th>5</th>\n",
       "      <td>MDRZX310R</td>\n",
       "      <td>наушник sony mdrzx310r красный</td>\n",
       "    </tr>\n",
       "    <tr>\n",
       "      <th>6</th>\n",
       "      <td>MDREX15APB</td>\n",
       "      <td>наушник вкладыш sony mdrex15ap 12м чёрный пров...</td>\n",
       "    </tr>\n",
       "    <tr>\n",
       "      <th>7</th>\n",
       "      <td>MDREX15APLI</td>\n",
       "      <td>наушник вкладыш sony mdrex15lp 12м голубой про...</td>\n",
       "    </tr>\n",
       "    <tr>\n",
       "      <th>8</th>\n",
       "      <td>MDREX15LPB</td>\n",
       "      <td>наушник вкладыш sony mdrex15lp 12м чёрный пров...</td>\n",
       "    </tr>\n",
       "    <tr>\n",
       "      <th>9</th>\n",
       "      <td>MDRZX110B</td>\n",
       "      <td>наушник накладный sony mdrzx110 12м чёрный про...</td>\n",
       "    </tr>\n",
       "    <tr>\n",
       "      <th>10</th>\n",
       "      <td>MDRZX110APW</td>\n",
       "      <td>наушник накладный sony mdrzx110ap 12м белый пр...</td>\n",
       "    </tr>\n",
       "    <tr>\n",
       "      <th>11</th>\n",
       "      <td>MDRZX310B</td>\n",
       "      <td>наушник накладный sony mdrzx310bae 12м чёрный ...</td>\n",
       "    </tr>\n",
       "    <tr>\n",
       "      <th>12</th>\n",
       "      <td>MDRZX310APL</td>\n",
       "      <td>наушникигарнитура sony mdrzx310ap синий</td>\n",
       "    </tr>\n",
       "    <tr>\n",
       "      <th>13</th>\n",
       "      <td>MDREX155APW</td>\n",
       "      <td>проводной гарнитур sony mdrex155apwe белый</td>\n",
       "    </tr>\n",
       "    <tr>\n",
       "      <th>14</th>\n",
       "      <td>MDRAS800APB</td>\n",
       "      <td>sony mdras800ap чёрный наушник</td>\n",
       "    </tr>\n",
       "  </tbody>\n",
       "</table>\n",
       "</div>"
      ],
      "text/plain": [
       "           ITEM                                               DESC\n",
       "0   MDREX15LPLI                     наушник sony mdrex15lpli синий\n",
       "1   MDREX15LPPI                    наушник sony mdrex15lpp розовый\n",
       "2   MDREX250APR                    наушник sony mdrex250ap красный\n",
       "3   MDRXB550APB                     наушник sony mdrxb550ap чёрный\n",
       "4     MDRZX310L                       наушник sony mdrzx310l синий\n",
       "5     MDRZX310R                     наушник sony mdrzx310r красный\n",
       "6    MDREX15APB  наушник вкладыш sony mdrex15ap 12м чёрный пров...\n",
       "7   MDREX15APLI  наушник вкладыш sony mdrex15lp 12м голубой про...\n",
       "8    MDREX15LPB  наушник вкладыш sony mdrex15lp 12м чёрный пров...\n",
       "9     MDRZX110B  наушник накладный sony mdrzx110 12м чёрный про...\n",
       "10  MDRZX110APW  наушник накладный sony mdrzx110ap 12м белый пр...\n",
       "11    MDRZX310B  наушник накладный sony mdrzx310bae 12м чёрный ...\n",
       "12  MDRZX310APL            наушникигарнитура sony mdrzx310ap синий\n",
       "13  MDREX155APW         проводной гарнитур sony mdrex155apwe белый\n",
       "14  MDRAS800APB                     sony mdras800ap чёрный наушник"
      ]
     },
     "execution_count": 36,
     "metadata": {},
     "output_type": "execute_result"
    }
   ],
   "source": [
    "df.head(15)"
   ]
  },
  {
   "attachments": {},
   "cell_type": "markdown",
   "metadata": {},
   "source": [
    "## Векторизация"
   ]
  },
  {
   "attachments": {},
   "cell_type": "markdown",
   "metadata": {},
   "source": [
    "### TF-IDF"
   ]
  },
  {
   "cell_type": "code",
   "execution_count": 37,
   "metadata": {},
   "outputs": [
    {
     "name": "stdout",
     "output_type": "stream",
     "text": [
      "(24517, 6481)\n"
     ]
    }
   ],
   "source": [
    "from sklearn.feature_extraction.text import TfidfVectorizer\n",
    "\n",
    "# Создаем объект TfidfVectorizer и обучаем его на текстах из колонки DESC\n",
    "tfidf_vectorizer = TfidfVectorizer()\n",
    "item_tfidf = tfidf_vectorizer.fit_transform(df['DESC'])\n",
    "\n",
    "# Проверяем размерность матрицы\n",
    "print(item_tfidf.shape)\n"
   ]
  },
  {
   "attachments": {},
   "cell_type": "markdown",
   "metadata": {},
   "source": [
    "### Bag Of Words"
   ]
  },
  {
   "cell_type": "code",
   "execution_count": 38,
   "metadata": {},
   "outputs": [
    {
     "name": "stdout",
     "output_type": "stream",
     "text": [
      "(24517, 6481)\n"
     ]
    }
   ],
   "source": [
    "from sklearn.feature_extraction.text import CountVectorizer\n",
    "\n",
    "# Создаем объект CountVectorizer и обучаем его на текстах из колонки DESC\n",
    "count_vectorizer = CountVectorizer()\n",
    "item_bow = count_vectorizer.fit_transform(df['DESC'])\n",
    "\n",
    "# Проверяем размерность матрицы\n",
    "print(item_bow.shape)"
   ]
  },
  {
   "attachments": {},
   "cell_type": "markdown",
   "metadata": {},
   "source": [
    "Будем использовать матрицу item_tfidf/item_bow как матрицу признаков X, а столбец ITEM исходного датафрейма как целевую переменную y"
   ]
  },
  {
   "cell_type": "code",
   "execution_count": 39,
   "metadata": {},
   "outputs": [],
   "source": [
    "from sklearn.model_selection import train_test_split\n",
    "\n",
    "# Выделяем целевую переменную\n",
    "y = df['ITEM']\n",
    "\n",
    "# Проверяем размерности матрицы признаков и целевой переменной\n",
    "assert item_tfidf.shape[0] == len(y)\n",
    "\n",
    "# Разделяем данные на обучающую и тестовую выборки\n",
    "X_train, X_test, y_train, y_test = train_test_split(item_tfidf, y, test_size=0.2, random_state=42)\n"
   ]
  },
  {
   "attachments": {},
   "cell_type": "markdown",
   "metadata": {},
   "source": [
    "## Сравниваем классификаторы"
   ]
  },
  {
   "attachments": {},
   "cell_type": "markdown",
   "metadata": {},
   "source": [
    "### Decision tree"
   ]
  },
  {
   "cell_type": "code",
   "execution_count": 40,
   "metadata": {},
   "outputs": [
    {
     "name": "stdout",
     "output_type": "stream",
     "text": [
      "Accuracy: 0.7657014681892332\n"
     ]
    }
   ],
   "source": [
    "from sklearn.tree import DecisionTreeClassifier\n",
    "from sklearn.metrics import accuracy_score\n",
    "\n",
    "# Обучаем решающее дерево\n",
    "dt_clf = DecisionTreeClassifier(random_state=42)\n",
    "dt_clf.fit(X_train, y_train)\n",
    "\n",
    "# Предсказываем значения на тестовой выборке\n",
    "y_pred = dt_clf.predict(X_test)\n",
    "\n",
    "# Оцениваем качество модели на тестовой выборке\n",
    "accuracy = accuracy_score(y_test, y_pred)\n",
    "print(f\"Accuracy: {accuracy}\")\n"
   ]
  },
  {
   "attachments": {},
   "cell_type": "markdown",
   "metadata": {},
   "source": [
    "### Random Forest"
   ]
  },
  {
   "cell_type": "code",
   "execution_count": 41,
   "metadata": {},
   "outputs": [
    {
     "name": "stdout",
     "output_type": "stream",
     "text": [
      "Accuracy: 0.7975122349102773\n"
     ]
    }
   ],
   "source": [
    "from sklearn.ensemble import RandomForestClassifier\n",
    "\n",
    "# Создание и обучение модели\n",
    "rfmodel = RandomForestClassifier(random_state=42)\n",
    "rfmodel.fit(X_train, y_train)\n",
    "\n",
    "# Предсказание на тестовых данных\n",
    "y_pred = rfmodel.predict(X_test)\n",
    "\n",
    "# Оценка точности\n",
    "accuracy = accuracy_score(y_test, y_pred)\n",
    "print(f\"Accuracy: {accuracy}\")\n"
   ]
  },
  {
   "attachments": {},
   "cell_type": "markdown",
   "metadata": {},
   "source": [
    "### K-Nearest Neighbours"
   ]
  },
  {
   "cell_type": "code",
   "execution_count": 42,
   "metadata": {},
   "outputs": [
    {
     "name": "stdout",
     "output_type": "stream",
     "text": [
      "Accuracy: 0.6829119086460033\n"
     ]
    }
   ],
   "source": [
    "from sklearn.neighbors import KNeighborsClassifier\n",
    "\n",
    "# Создание и обучение модели\n",
    "knmodel = KNeighborsClassifier()\n",
    "knmodel.fit(X_train, y_train)\n",
    "\n",
    "# Предсказание на тестовых данных\n",
    "y_pred = knmodel.predict(X_test)\n",
    "\n",
    "# Оценка точности\n",
    "accuracy = accuracy_score(y_test, y_pred)\n",
    "print(f\"Accuracy: {accuracy}\")\n"
   ]
  },
  {
   "attachments": {},
   "cell_type": "markdown",
   "metadata": {},
   "source": [
    "### XGBoost"
   ]
  },
  {
   "cell_type": "code",
   "execution_count": 43,
   "metadata": {},
   "outputs": [],
   "source": [
    "from sklearn.preprocessing import LabelEncoder\n",
    "from xgboost import XGBClassifier\n",
    "\n",
    "# Создаем экземпляр LabelEncoder\n",
    "label_encoder = LabelEncoder()\n",
    "\n",
    "# Преобразуем целевую переменную в числовые значения\n",
    "y_encoded = label_encoder.fit_transform(y)\n",
    "\n",
    "# Разделение данных на обучающую и тестовую выборки\n",
    "X_train, X_test, y_train, y_test = train_test_split(item_tfidf, y_encoded, test_size=0.2, random_state=42)\n",
    "\n",
    "# Создание и обучение модели\n",
    "xgbmodel = XGBClassifier(random_state=42)\n",
    "xgbmodel.fit(X_train, y_train)\n",
    "\n",
    "# Предсказание на тестовых данных\n",
    "y_pred = xgbmodel.predict(X_test)\n",
    "\n",
    "# Оценка точности модели\n",
    "accuracy = accuracy_score(y_test, y_pred)\n",
    "print(\"Accuracy:\", accuracy)\n"
   ]
  },
  {
   "attachments": {},
   "cell_type": "markdown",
   "metadata": {},
   "source": [
    "## Тестируем на реальных данных"
   ]
  },
  {
   "cell_type": "code",
   "execution_count": null,
   "metadata": {},
   "outputs": [
    {
     "data": {
      "text/html": [
       "<div>\n",
       "<style scoped>\n",
       "    .dataframe tbody tr th:only-of-type {\n",
       "        vertical-align: middle;\n",
       "    }\n",
       "\n",
       "    .dataframe tbody tr th {\n",
       "        vertical-align: top;\n",
       "    }\n",
       "\n",
       "    .dataframe thead th {\n",
       "        text-align: right;\n",
       "    }\n",
       "</style>\n",
       "<table border=\"1\" class=\"dataframe\">\n",
       "  <thead>\n",
       "    <tr style=\"text-align: right;\">\n",
       "      <th></th>\n",
       "      <th>DESC</th>\n",
       "    </tr>\n",
       "  </thead>\n",
       "  <tbody>\n",
       "    <tr>\n",
       "      <th>0</th>\n",
       "      <td>Наушники вставные  MDR-E9LP Blue (731705)</td>\n",
       "    </tr>\n",
       "    <tr>\n",
       "      <th>1</th>\n",
       "      <td>Наушники вставные с микрофоном Sony MDR-EX15AP...</td>\n",
       "    </tr>\n",
       "    <tr>\n",
       "      <th>2</th>\n",
       "      <td>Наушники вставные  MDR-E9LP Black (727692)</td>\n",
       "    </tr>\n",
       "    <tr>\n",
       "      <th>3</th>\n",
       "      <td>Наушники вставные  MDR-E9LP Black (727692)</td>\n",
       "    </tr>\n",
       "    <tr>\n",
       "      <th>4</th>\n",
       "      <td>Наушники вставные  MDR-E9LP Black (727692)</td>\n",
       "    </tr>\n",
       "    <tr>\n",
       "      <th>...</th>\n",
       "      <td>...</td>\n",
       "    </tr>\n",
       "    <tr>\n",
       "      <th>535</th>\n",
       "      <td>Наушники вставные c мик-ом Sony MDREX155AP bla...</td>\n",
       "    </tr>\n",
       "    <tr>\n",
       "      <th>536</th>\n",
       "      <td>Наушники вставные Sony MDR-EX15LPLIZ(PLIC)(AE)...</td>\n",
       "    </tr>\n",
       "    <tr>\n",
       "      <th>537</th>\n",
       "      <td>Наушники вставные  MDR-E9LP Black (727692)</td>\n",
       "    </tr>\n",
       "    <tr>\n",
       "      <th>538</th>\n",
       "      <td>Наушники вставные  MDR-E9LP Blue (731705)</td>\n",
       "    </tr>\n",
       "    <tr>\n",
       "      <th>539</th>\n",
       "      <td>Наушники вставные  MDR-E9LP Grey (731682)</td>\n",
       "    </tr>\n",
       "  </tbody>\n",
       "</table>\n",
       "<p>540 rows × 1 columns</p>\n",
       "</div>"
      ],
      "text/plain": [
       "                                                  DESC\n",
       "0            Наушники вставные  MDR-E9LP Blue (731705)\n",
       "1    Наушники вставные с микрофоном Sony MDR-EX15AP...\n",
       "2           Наушники вставные  MDR-E9LP Black (727692)\n",
       "3           Наушники вставные  MDR-E9LP Black (727692)\n",
       "4           Наушники вставные  MDR-E9LP Black (727692)\n",
       "..                                                 ...\n",
       "535  Наушники вставные c мик-ом Sony MDREX155AP bla...\n",
       "536  Наушники вставные Sony MDR-EX15LPLIZ(PLIC)(AE)...\n",
       "537         Наушники вставные  MDR-E9LP Black (727692)\n",
       "538          Наушники вставные  MDR-E9LP Blue (731705)\n",
       "539          Наушники вставные  MDR-E9LP Grey (731682)\n",
       "\n",
       "[540 rows x 1 columns]"
      ]
     },
     "execution_count": 111,
     "metadata": {},
     "output_type": "execute_result"
    }
   ],
   "source": [
    "\n",
    "test_df = pd.read_excel('C:\\\\Users\\\\223hy\\\\OneDrive\\\\Рабочий стол\\\\matcher\\\\sku_matcher\\\\test_df.xlsx')\n",
    "test_df"
   ]
  },
  {
   "cell_type": "code",
   "execution_count": null,
   "metadata": {},
   "outputs": [
    {
     "data": {
      "text/html": [
       "<div>\n",
       "<style scoped>\n",
       "    .dataframe tbody tr th:only-of-type {\n",
       "        vertical-align: middle;\n",
       "    }\n",
       "\n",
       "    .dataframe tbody tr th {\n",
       "        vertical-align: top;\n",
       "    }\n",
       "\n",
       "    .dataframe thead th {\n",
       "        text-align: right;\n",
       "    }\n",
       "</style>\n",
       "<table border=\"1\" class=\"dataframe\">\n",
       "  <thead>\n",
       "    <tr style=\"text-align: right;\">\n",
       "      <th></th>\n",
       "      <th>DESC</th>\n",
       "    </tr>\n",
       "  </thead>\n",
       "  <tbody>\n",
       "    <tr>\n",
       "      <th>0</th>\n",
       "      <td>наушники вставные mdre9lp blue 731705</td>\n",
       "    </tr>\n",
       "    <tr>\n",
       "      <th>1</th>\n",
       "      <td>наушники вставные микрофоном sony mdrex15apvcz...</td>\n",
       "    </tr>\n",
       "    <tr>\n",
       "      <th>2</th>\n",
       "      <td>наушники вставные mdre9lp black 727692</td>\n",
       "    </tr>\n",
       "    <tr>\n",
       "      <th>3</th>\n",
       "      <td>наушники вставные mdre9lp black 727692</td>\n",
       "    </tr>\n",
       "    <tr>\n",
       "      <th>4</th>\n",
       "      <td>наушники вставные mdre9lp black 727692</td>\n",
       "    </tr>\n",
       "    <tr>\n",
       "      <th>...</th>\n",
       "      <td>...</td>\n",
       "    </tr>\n",
       "    <tr>\n",
       "      <th>535</th>\n",
       "      <td>наушники вставные c миком sony mdrex155ap blac...</td>\n",
       "    </tr>\n",
       "    <tr>\n",
       "      <th>536</th>\n",
       "      <td>наушники вставные sony mdrex15lplizplicae 9467...</td>\n",
       "    </tr>\n",
       "    <tr>\n",
       "      <th>537</th>\n",
       "      <td>наушники вставные mdre9lp black 727692</td>\n",
       "    </tr>\n",
       "    <tr>\n",
       "      <th>538</th>\n",
       "      <td>наушники вставные mdre9lp blue 731705</td>\n",
       "    </tr>\n",
       "    <tr>\n",
       "      <th>539</th>\n",
       "      <td>наушники вставные mdre9lp grey 731682</td>\n",
       "    </tr>\n",
       "  </tbody>\n",
       "</table>\n",
       "<p>540 rows × 1 columns</p>\n",
       "</div>"
      ],
      "text/plain": [
       "                                                  DESC\n",
       "0                наушники вставные mdre9lp blue 731705\n",
       "1    наушники вставные микрофоном sony mdrex15apvcz...\n",
       "2               наушники вставные mdre9lp black 727692\n",
       "3               наушники вставные mdre9lp black 727692\n",
       "4               наушники вставные mdre9lp black 727692\n",
       "..                                                 ...\n",
       "535  наушники вставные c миком sony mdrex155ap blac...\n",
       "536  наушники вставные sony mdrex15lplizplicae 9467...\n",
       "537             наушники вставные mdre9lp black 727692\n",
       "538              наушники вставные mdre9lp blue 731705\n",
       "539              наушники вставные mdre9lp grey 731682\n",
       "\n",
       "[540 rows x 1 columns]"
      ]
     },
     "execution_count": 112,
     "metadata": {},
     "output_type": "execute_result"
    }
   ],
   "source": [
    "# применение функции очистки текста к колонке 'DESC'\n",
    "test_df['DESC'] = test_df['DESC'].apply(clean_text)\n",
    "\n",
    "# применение функции лемматизации к русским словам в колонке 'DESC'\n",
    "# test_df['DESC'] = test_df['DESC'].apply(lemmatize)\n",
    "test_df"
   ]
  },
  {
   "cell_type": "code",
   "execution_count": null,
   "metadata": {},
   "outputs": [],
   "source": [
    "# Векторизуем текст в колонке DESC в test_df\n",
    "test_item_tfidf = tfidf_vectorizer.transform(test_df['DESC'].astype(str))\n",
    "\n",
    "# Применяем обученную модель к test_item_tfidf и получаем вероятности для каждой метки класса\n",
    "predicted_prob = xgbmodel.predict_proba(test_item_tfidf)\n",
    "\n",
    "# Выбираем только те значения, для которых вероятность превышает порог\n",
    "predicted_labels = [xgbmodel.classes_[np.argmax(pred)] if np.max(pred) > 0.9 else None for pred in predicted_prob]\n",
    "\n",
    "# Записываем соответствующие значения MATERIAL SAP в новый столбец\n",
    "test_df['PREDICTED_ITEM'] = predicted_labels\n"
   ]
  },
  {
   "attachments": {},
   "cell_type": "markdown",
   "metadata": {},
   "source": [
    "### Сохраняем распознанные данные"
   ]
  },
  {
   "cell_type": "code",
   "execution_count": null,
   "metadata": {},
   "outputs": [],
   "source": [
    "test_df.to_excel('output_file.xlsx', index=False)"
   ]
  }
 ],
 "metadata": {
  "kernelspec": {
   "display_name": "Python 3",
   "language": "python",
   "name": "python3"
  },
  "language_info": {
   "codemirror_mode": {
    "name": "ipython",
    "version": 3
   },
   "file_extension": ".py",
   "mimetype": "text/x-python",
   "name": "python",
   "nbconvert_exporter": "python",
   "pygments_lexer": "ipython3",
   "version": "3.11.3"
  },
  "orig_nbformat": 4
 },
 "nbformat": 4,
 "nbformat_minor": 2
}
