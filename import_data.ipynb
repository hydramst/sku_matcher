{
 "cells": [
  {
   "cell_type": "code",
   "execution_count": 30,
   "metadata": {},
   "outputs": [
    {
     "name": "stderr",
     "output_type": "stream",
     "text": [
      "[nltk_data] Downloading package stopwords to\n",
      "[nltk_data]     C:\\Users\\223hy\\AppData\\Roaming\\nltk_data...\n",
      "[nltk_data]   Package stopwords is already up-to-date!\n"
     ]
    }
   ],
   "source": [
    "import pandas as pd\n",
    "import numpy as np\n",
    "import re\n",
    "import nltk\n",
    "from nltk.corpus import stopwords\n",
    "nltk.download('stopwords')\n",
    "from nltk.stem import SnowballStemmer\n",
    "from nltk.tokenize import RegexpTokenizer\n",
    "from sklearn.feature_extraction.text import TfidfVectorizer\n",
    "import pymorphy2\n",
    "from pymystem3 import Mystem\n",
    "import seaborn as sns\n",
    "import matplotlib.pyplot as plt\n"
   ]
  },
  {
   "cell_type": "code",
   "execution_count": 31,
   "metadata": {},
   "outputs": [],
   "source": [
    "df = pd.read_excel('C:\\\\Users\\\\223hy\\\\OneDrive\\\\Рабочий стол\\\\matcher\\\\sku_matcher\\\\500rows.xlsx')"
   ]
  },
  {
   "cell_type": "code",
   "execution_count": 32,
   "metadata": {},
   "outputs": [],
   "source": [
    "df['ITEM'] = df['ITEM'].astype(str)\n",
    "df['DESC'] = df['DESC'].astype(str)\n",
    "df = df.dropna()"
   ]
  },
  {
   "cell_type": "code",
   "execution_count": 33,
   "metadata": {},
   "outputs": [],
   "source": [
    "# очистка текста в колонке 'ITEM'\n",
    "def clean_text(text):\n",
    "    # удаление лишних символов и приведение к нижнему регистру\n",
    "    text = re.sub(r'[^\\w\\s]', '', text)\n",
    "    text = text.lower()\n",
    "    \n",
    "    # токенизация\n",
    "    tokenizer = RegexpTokenizer(r'\\w+')\n",
    "    tokens = tokenizer.tokenize(text)\n",
    "    \n",
    "    # удаление стоп-слов\n",
    "    stop_words = set(stopwords.words('english') + stopwords.words('russian'))\n",
    "    tokens = [token for token in tokens if not token in stop_words]\n",
    "    \n",
    "    # исключения для стемминга\n",
    "    stemming_exceptions = {'sony'}\n",
    "    \n",
    "    # стемминг\n",
    "    stemmer = SnowballStemmer('english')\n",
    "    tokens = [stemmer.stem(token) if token not in stemming_exceptions else token for token in tokens]\n",
    "    \n",
    "    # объединение токенов в строку\n",
    "    text = ' '.join(tokens)\n",
    "    return text\n",
    "\n",
    "# применение функции очистки текста к колонке 'DESC'\n",
    "df['DESC'] = df['DESC'].apply(clean_text)"
   ]
  },
  {
   "cell_type": "code",
   "execution_count": 34,
   "metadata": {},
   "outputs": [],
   "source": [
    "morph = pymorphy2.MorphAnalyzer()\n",
    "\n",
    "def lemmatize_text(text):\n",
    "    tokens = text.split()\n",
    "    lemmas = [morph.parse(token)[0].normal_form for token in tokens]\n",
    "    return ' '.join(lemmas)\n",
    "\n",
    "# применение функции лемматизации к русским словам в колонке 'DESC'\n",
    "df['DESC'] = df['DESC'].apply(lemmatize_text)\n"
   ]
  },
  {
   "cell_type": "code",
   "execution_count": 35,
   "metadata": {},
   "outputs": [
    {
     "data": {
      "text/html": [
       "<div>\n",
       "<style scoped>\n",
       "    .dataframe tbody tr th:only-of-type {\n",
       "        vertical-align: middle;\n",
       "    }\n",
       "\n",
       "    .dataframe tbody tr th {\n",
       "        vertical-align: top;\n",
       "    }\n",
       "\n",
       "    .dataframe thead th {\n",
       "        text-align: right;\n",
       "    }\n",
       "</style>\n",
       "<table border=\"1\" class=\"dataframe\">\n",
       "  <thead>\n",
       "    <tr style=\"text-align: right;\">\n",
       "      <th></th>\n",
       "      <th>ITEM</th>\n",
       "      <th>DESC</th>\n",
       "    </tr>\n",
       "  </thead>\n",
       "  <tbody>\n",
       "    <tr>\n",
       "      <th>0</th>\n",
       "      <td>PS719709992</td>\n",
       "      <td>игровой приставка sony playstat 5 825 гб ssd б...</td>\n",
       "    </tr>\n",
       "    <tr>\n",
       "      <th>1</th>\n",
       "      <td>PS719398707</td>\n",
       "      <td>игровой консоль sony playstat 5 825gb</td>\n",
       "    </tr>\n",
       "    <tr>\n",
       "      <th>2</th>\n",
       "      <td>PS719398707</td>\n",
       "      <td>sony playstat 5 cfi1008a</td>\n",
       "    </tr>\n",
       "    <tr>\n",
       "      <th>3</th>\n",
       "      <td>PS719709992</td>\n",
       "      <td>sony playstat 5 cfi1108a</td>\n",
       "    </tr>\n",
       "    <tr>\n",
       "      <th>4</th>\n",
       "      <td>PS719398707</td>\n",
       "      <td>6301853 игровой приставка sony playstat 5 диск...</td>\n",
       "    </tr>\n",
       "    <tr>\n",
       "      <th>...</th>\n",
       "      <td>...</td>\n",
       "      <td>...</td>\n",
       "    </tr>\n",
       "    <tr>\n",
       "      <th>545</th>\n",
       "      <td>PS719709992</td>\n",
       "      <td>ps719709992 dualsenc ps5</td>\n",
       "    </tr>\n",
       "    <tr>\n",
       "      <th>546</th>\n",
       "      <td>PS719709992</td>\n",
       "      <td>ps719709992 dualsens white ps5</td>\n",
       "    </tr>\n",
       "    <tr>\n",
       "      <th>547</th>\n",
       "      <td>PS719398707</td>\n",
       "      <td>ps719709992 eiger black consolerusind</td>\n",
       "    </tr>\n",
       "    <tr>\n",
       "      <th>548</th>\n",
       "      <td>PS719709992</td>\n",
       "      <td>ps719709992 ps5 white</td>\n",
       "    </tr>\n",
       "    <tr>\n",
       "      <th>549</th>\n",
       "      <td>PS719709992</td>\n",
       "      <td>ps719709992 sony dualsens white ps5</td>\n",
       "    </tr>\n",
       "  </tbody>\n",
       "</table>\n",
       "<p>550 rows × 2 columns</p>\n",
       "</div>"
      ],
      "text/plain": [
       "            ITEM                                               DESC\n",
       "0    PS719709992  игровой приставка sony playstat 5 825 гб ssd б...\n",
       "1    PS719398707              игровой консоль sony playstat 5 825gb\n",
       "2    PS719398707                           sony playstat 5 cfi1008a\n",
       "3    PS719709992                           sony playstat 5 cfi1108a\n",
       "4    PS719398707  6301853 игровой приставка sony playstat 5 диск...\n",
       "..           ...                                                ...\n",
       "545  PS719709992                           ps719709992 dualsenc ps5\n",
       "546  PS719709992                     ps719709992 dualsens white ps5\n",
       "547  PS719398707              ps719709992 eiger black consolerusind\n",
       "548  PS719709992                              ps719709992 ps5 white\n",
       "549  PS719709992                ps719709992 sony dualsens white ps5\n",
       "\n",
       "[550 rows x 2 columns]"
      ]
     },
     "execution_count": 35,
     "metadata": {},
     "output_type": "execute_result"
    }
   ],
   "source": [
    "df"
   ]
  },
  {
   "cell_type": "code",
   "execution_count": 36,
   "metadata": {},
   "outputs": [
    {
     "name": "stdout",
     "output_type": "stream",
     "text": [
      "(550, 385)\n"
     ]
    }
   ],
   "source": [
    "from sklearn.feature_extraction.text import TfidfVectorizer\n",
    "\n",
    "# Создаем объект TfidfVectorizer и обучаем его на текстах из колонки DESC\n",
    "tfidf_vectorizer = TfidfVectorizer()\n",
    "item_tfidf = tfidf_vectorizer.fit_transform(df['DESC'])\n",
    "\n",
    "# Проверяем размерность матрицы\n",
    "print(item_tfidf.shape)\n"
   ]
  },
  {
   "cell_type": "code",
   "execution_count": 37,
   "metadata": {},
   "outputs": [
    {
     "data": {
      "image/png": "[encoded data removed]",
      "text/plain": [
       "<Figure size 640x480 with 1 Axes>"
      ]
     },
     "metadata": {},
     "output_type": "display_data"
    }
   ],
   "source": [
    "import matplotlib.pyplot as plt\n",
    "\n",
    "df['ITEM'].value_counts().plot(kind='bar')\n",
    "plt.show()\n"
   ]
  },
  {
   "attachments": {},
   "cell_type": "markdown",
   "metadata": {},
   "source": [
    "Будем использовать матрицу item_tfidf как матрицу признаков X, а столбец MATERIAL SAP исходного датафрейма как целевую переменную y"
   ]
  },
  {
   "cell_type": "code",
   "execution_count": 38,
   "metadata": {},
   "outputs": [],
   "source": [
    "from sklearn.model_selection import train_test_split\n",
    "\n",
    "# Выделяем целевую переменную\n",
    "y = df['ITEM']\n",
    "\n",
    "# Проверяем размерности матрицы признаков и целевой переменной\n",
    "assert item_tfidf.shape[0] == len(y)\n",
    "\n",
    "# Разделяем данные на обучающую и тестовую выборки\n",
    "X_train, X_test, y_train, y_test = train_test_split(item_tfidf, y, test_size=0.2, random_state=42)\n"
   ]
  },
  {
   "cell_type": "code",
   "execution_count": 39,
   "metadata": {},
   "outputs": [
    {
     "name": "stdout",
     "output_type": "stream",
     "text": [
      "Accuracy: 0.8090909090909091\n"
     ]
    }
   ],
   "source": [
    "from sklearn.model_selection import train_test_split\n",
    "from sklearn.linear_model import LogisticRegression\n",
    "from sklearn.metrics import accuracy_score\n",
    "\n",
    "# Разбиваем на train и test\n",
    "X_train, X_test, y_train, y_test = train_test_split(item_tfidf, y, test_size=0.2, random_state=42)\n",
    "\n",
    "# Обучаем логистическую регрессию\n",
    "logreg = LogisticRegression(max_iter=10000)\n",
    "logreg.fit(X_train, y_train)\n",
    "\n",
    "# Предсказываем значения на тестовой выборке\n",
    "y_pred = logreg.predict(X_test)\n",
    "\n",
    "# Оцениваем качество модели на тестовой выборке\n",
    "accuracy = accuracy_score(y_test, y_pred)\n",
    "print(f\"Accuracy: {accuracy}\")\n"
   ]
  },
  {
   "cell_type": "code",
   "execution_count": 40,
   "metadata": {},
   "outputs": [
    {
     "name": "stdout",
     "output_type": "stream",
     "text": [
      "Accuracy: 0.8727272727272727\n"
     ]
    }
   ],
   "source": [
    "from sklearn.tree import DecisionTreeClassifier\n",
    "\n",
    "# Обучаем решающее дерево\n",
    "clf = DecisionTreeClassifier(random_state=42)\n",
    "clf.fit(X_train, y_train)\n",
    "\n",
    "# Предсказываем значения на тестовой выборке\n",
    "y_pred = clf.predict(X_test)\n",
    "\n",
    "# Оцениваем качество модели на тестовой выборке\n",
    "accuracy = accuracy_score(y_test, y_pred)\n",
    "print(f\"Accuracy: {accuracy}\")\n"
   ]
  },
  {
   "cell_type": "code",
   "execution_count": 41,
   "metadata": {},
   "outputs": [
    {
     "data": {
      "text/html": [
       "<div>\n",
       "<style scoped>\n",
       "    .dataframe tbody tr th:only-of-type {\n",
       "        vertical-align: middle;\n",
       "    }\n",
       "\n",
       "    .dataframe tbody tr th {\n",
       "        vertical-align: top;\n",
       "    }\n",
       "\n",
       "    .dataframe thead th {\n",
       "        text-align: right;\n",
       "    }\n",
       "</style>\n",
       "<table border=\"1\" class=\"dataframe\">\n",
       "  <thead>\n",
       "    <tr style=\"text-align: right;\">\n",
       "      <th></th>\n",
       "      <th>DESC</th>\n",
       "    </tr>\n",
       "  </thead>\n",
       "  <tbody>\n",
       "    <tr>\n",
       "      <th>0</th>\n",
       "      <td>Гарнитура Sony PS5 Pulse 3D Wireless Headset B...</td>\n",
       "    </tr>\n",
       "    <tr>\n",
       "      <th>1</th>\n",
       "      <td>Пульт Media Remote для Sony PS5</td>\n",
       "    </tr>\n",
       "    <tr>\n",
       "      <th>2</th>\n",
       "      <td>HD Camera для Sony PS5</td>\n",
       "    </tr>\n",
       "    <tr>\n",
       "      <th>3</th>\n",
       "      <td>Игровая консоль Sony PlayStation Digital Editi...</td>\n",
       "    </tr>\n",
       "    <tr>\n",
       "      <th>4</th>\n",
       "      <td>Игровая консоль Sony PlayStation 5 Ultra HD Bl...</td>\n",
       "    </tr>\n",
       "    <tr>\n",
       "      <th>...</th>\n",
       "      <td>...</td>\n",
       "    </tr>\n",
       "    <tr>\n",
       "      <th>535</th>\n",
       "      <td>HD Camera для Sony PS5</td>\n",
       "    </tr>\n",
       "    <tr>\n",
       "      <th>536</th>\n",
       "      <td>Игровая консоль Sony PlayStation 5 Ultra HD Bl...</td>\n",
       "    </tr>\n",
       "    <tr>\n",
       "      <th>537</th>\n",
       "      <td>Гарнитура Sony PS5 Pulse 3D Wireless Headset</td>\n",
       "    </tr>\n",
       "    <tr>\n",
       "      <th>538</th>\n",
       "      <td>Гарнитура Sony PS5 Pulse 3D Wireless Headset B...</td>\n",
       "    </tr>\n",
       "    <tr>\n",
       "      <th>539</th>\n",
       "      <td>Игровая консоль Sony PlayStation Digital Editi...</td>\n",
       "    </tr>\n",
       "  </tbody>\n",
       "</table>\n",
       "<p>540 rows × 1 columns</p>\n",
       "</div>"
      ],
      "text/plain": [
       "                                                  DESC\n",
       "0    Гарнитура Sony PS5 Pulse 3D Wireless Headset B...\n",
       "1                      Пульт Media Remote для Sony PS5\n",
       "2                               HD Camera для Sony PS5\n",
       "3    Игровая консоль Sony PlayStation Digital Editi...\n",
       "4    Игровая консоль Sony PlayStation 5 Ultra HD Bl...\n",
       "..                                                 ...\n",
       "535                             HD Camera для Sony PS5\n",
       "536  Игровая консоль Sony PlayStation 5 Ultra HD Bl...\n",
       "537       Гарнитура Sony PS5 Pulse 3D Wireless Headset\n",
       "538  Гарнитура Sony PS5 Pulse 3D Wireless Headset B...\n",
       "539  Игровая консоль Sony PlayStation Digital Editi...\n",
       "\n",
       "[540 rows x 1 columns]"
      ]
     },
     "execution_count": 41,
     "metadata": {},
     "output_type": "execute_result"
    }
   ],
   "source": [
    "test_df = pd.read_excel('C:\\\\Users\\\\223hy\\\\OneDrive\\\\Рабочий стол\\\\matcher\\\\sku_matcher\\\\test_df.xlsx')\n",
    "test_df"
   ]
  },
  {
   "cell_type": "code",
   "execution_count": 42,
   "metadata": {},
   "outputs": [
    {
     "data": {
      "text/html": [
       "<div>\n",
       "<style scoped>\n",
       "    .dataframe tbody tr th:only-of-type {\n",
       "        vertical-align: middle;\n",
       "    }\n",
       "\n",
       "    .dataframe tbody tr th {\n",
       "        vertical-align: top;\n",
       "    }\n",
       "\n",
       "    .dataframe thead th {\n",
       "        text-align: right;\n",
       "    }\n",
       "</style>\n",
       "<table border=\"1\" class=\"dataframe\">\n",
       "  <thead>\n",
       "    <tr style=\"text-align: right;\">\n",
       "      <th></th>\n",
       "      <th>DESC</th>\n",
       "    </tr>\n",
       "  </thead>\n",
       "  <tbody>\n",
       "    <tr>\n",
       "      <th>0</th>\n",
       "      <td>гарнитур sony ps5 puls 3d wireless headset bla...</td>\n",
       "    </tr>\n",
       "    <tr>\n",
       "      <th>1</th>\n",
       "      <td>пульт media remot sony ps5</td>\n",
       "    </tr>\n",
       "    <tr>\n",
       "      <th>2</th>\n",
       "      <td>hd camera sony ps5</td>\n",
       "    </tr>\n",
       "    <tr>\n",
       "      <th>3</th>\n",
       "      <td>игровой консоль sony playstat digit edit god w...</td>\n",
       "    </tr>\n",
       "    <tr>\n",
       "      <th>4</th>\n",
       "      <td>игровой консоль sony playstat 5 ultra hd blura...</td>\n",
       "    </tr>\n",
       "    <tr>\n",
       "      <th>...</th>\n",
       "      <td>...</td>\n",
       "    </tr>\n",
       "    <tr>\n",
       "      <th>535</th>\n",
       "      <td>hd camera sony ps5</td>\n",
       "    </tr>\n",
       "    <tr>\n",
       "      <th>536</th>\n",
       "      <td>игровой консоль sony playstat 5 ultra hd blura...</td>\n",
       "    </tr>\n",
       "    <tr>\n",
       "      <th>537</th>\n",
       "      <td>гарнитур sony ps5 puls 3d wireless headset</td>\n",
       "    </tr>\n",
       "    <tr>\n",
       "      <th>538</th>\n",
       "      <td>гарнитур sony ps5 puls 3d wireless headset bla...</td>\n",
       "    </tr>\n",
       "    <tr>\n",
       "      <th>539</th>\n",
       "      <td>игровой консоль sony playstat digit edit god w...</td>\n",
       "    </tr>\n",
       "  </tbody>\n",
       "</table>\n",
       "<p>540 rows × 1 columns</p>\n",
       "</div>"
      ],
      "text/plain": [
       "                                                  DESC\n",
       "0    гарнитур sony ps5 puls 3d wireless headset bla...\n",
       "1                           пульт media remot sony ps5\n",
       "2                                   hd camera sony ps5\n",
       "3    игровой консоль sony playstat digit edit god w...\n",
       "4    игровой консоль sony playstat 5 ultra hd blura...\n",
       "..                                                 ...\n",
       "535                                 hd camera sony ps5\n",
       "536  игровой консоль sony playstat 5 ultra hd blura...\n",
       "537         гарнитур sony ps5 puls 3d wireless headset\n",
       "538  гарнитур sony ps5 puls 3d wireless headset bla...\n",
       "539  игровой консоль sony playstat digit edit god w...\n",
       "\n",
       "[540 rows x 1 columns]"
      ]
     },
     "execution_count": 42,
     "metadata": {},
     "output_type": "execute_result"
    }
   ],
   "source": [
    "# применение функции очистки текста к колонке 'DESC'\n",
    "test_df['DESC'] = test_df['DESC'].apply(clean_text)\n",
    "\n",
    "# применение функции лемматизации к русским словам в колонке 'DESC'\n",
    "test_df['DESC'] = test_df['DESC'].apply(lemmatize_text)\n",
    "test_df"
   ]
  },
  {
   "cell_type": "code",
   "execution_count": 43,
   "metadata": {},
   "outputs": [],
   "source": [
    "# Векторизуем текст в колонке DESC в test_df\n",
    "test_item_tfidf = tfidf_vectorizer.transform(test_df['DESC'].astype(str))\n",
    "\n",
    "# Применяем обученную модель к test_item_tfidf и получаем вероятности для каждой метки класса\n",
    "predicted_prob = clf.predict_proba(test_item_tfidf)\n",
    "\n",
    "# Выбираем только те значения, для которых вероятность превышает порог\n",
    "predicted_labels = [clf.classes_[np.argmax(pred)] if np.max(pred) > 0.9 else None for pred in predicted_prob]\n",
    "\n",
    "# Записываем соответствующие значения MATERIAL SAP в новый столбец\n",
    "test_df['PREDICTED_ITEM'] = predicted_labels\n"
   ]
  },
  {
   "attachments": {},
   "cell_type": "markdown",
   "metadata": {},
   "source": [
    "ручная валидация ошибок на тестовых данных\n",
    "деревья решений\n",
    "каскад из моделей (каждая модель работает с ошибками предыдущей)"
   ]
  },
  {
   "cell_type": "code",
   "execution_count": 44,
   "metadata": {},
   "outputs": [
    {
     "name": "stdout",
     "output_type": "stream",
     "text": [
      "                                                  DESC PREDICTED_ITEM\n",
      "0    гарнитур sony ps5 puls 3d wireless headset bla...    PS719398707\n",
      "1                           пульт media remot sony ps5    PS719398707\n",
      "2                                   hd camera sony ps5    PS719398707\n",
      "3    игровой консоль sony playstat digit edit god w...    PS719398707\n",
      "4    игровой консоль sony playstat 5 ultra hd blura...    PS719398707\n",
      "..                                                 ...            ...\n",
      "535                                 hd camera sony ps5    PS719398707\n",
      "536  игровой консоль sony playstat 5 ultra hd blura...    PS719398707\n",
      "537         гарнитур sony ps5 puls 3d wireless headset    PS719398707\n",
      "538  гарнитур sony ps5 puls 3d wireless headset bla...    PS719398707\n",
      "539  игровой консоль sony playstat digit edit god w...    PS719398707\n",
      "\n",
      "[540 rows x 2 columns]\n"
     ]
    }
   ],
   "source": [
    "predicted_starts_with_PS7 = test_df[test_df['PREDICTED_ITEM'].str.startswith('PS7', na=False)]\n",
    "print(predicted_starts_with_PS7)"
   ]
  }
 ],
 "metadata": {
  "kernelspec": {
   "display_name": "Python 3",
   "language": "python",
   "name": "python3"
  },
  "language_info": {
   "codemirror_mode": {
    "name": "ipython",
    "version": 3
   },
   "file_extension": ".py",
   "mimetype": "text/x-python",
   "name": "python",
   "nbconvert_exporter": "python",
   "pygments_lexer": "ipython3",
   "version": "3.10.11"
  },
  "orig_nbformat": 4
 },
 "nbformat": 4,
 "nbformat_minor": 2
}
